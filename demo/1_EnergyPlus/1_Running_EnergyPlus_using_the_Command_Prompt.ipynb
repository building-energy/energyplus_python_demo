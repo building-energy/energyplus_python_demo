{
 "cells": [
  {
   "cell_type": "markdown",
   "metadata": {},
   "source": [
    "# 1_Running_EnergyPlus_using_the_Command_Prompt"
   ]
  },
  {
   "cell_type": "markdown",
   "metadata": {},
   "source": [
    "## The command prompt in Windows via a Jupyter Notebook\n",
    "\n",
    "Just use an '!'\n",
    "\n",
    "So to print the current working directory..."
   ]
  },
  {
   "cell_type": "code",
   "execution_count": 1,
   "metadata": {},
   "outputs": [
    {
     "name": "stdout",
     "output_type": "stream",
     "text": [
      "C:\\Users\\cvskf\\git\\stevenkfirth\\energyplus_python_demo\\demo\\1_EnergyPlus\n"
     ]
    }
   ],
   "source": [
    "!cd"
   ]
  },
  {
   "cell_type": "markdown",
   "metadata": {},
   "source": [
    "... this is equivalent to opening the 'Command Prompt' window and typing 'cd'."
   ]
  },
  {
   "cell_type": "markdown",
   "metadata": {},
   "source": [
    "It's also possible to use variables here, by putting a '$' before them. So the code below is equivalent to `!cd` ..."
   ]
  },
  {
   "cell_type": "code",
   "execution_count": 2,
   "metadata": {},
   "outputs": [
    {
     "name": "stdout",
     "output_type": "stream",
     "text": [
      "C:\\Users\\cvskf\\git\\stevenkfirth\\energyplus_python_demo\\demo\\1_EnergyPlus\n"
     ]
    }
   ],
   "source": [
    "my_variable='cd'\n",
    "!$my_variable"
   ]
  },
  {
   "cell_type": "markdown",
   "metadata": {},
   "source": [
    "## Using the command prompt with EnergyPlus"
   ]
  },
  {
   "cell_type": "markdown",
   "metadata": {},
   "source": [
    "### Checking we can access the EnergyPlus .exe\n",
    "\n",
    "Print the EnergyPlus version..."
   ]
  },
  {
   "cell_type": "code",
   "execution_count": 3,
   "metadata": {},
   "outputs": [
    {
     "name": "stdout",
     "output_type": "stream",
     "text": [
      "EnergyPlus, Version 8.9.0-40101eaafd\n"
     ]
    }
   ],
   "source": [
    "!C:\\EnergyPlusV8-9-0\\EnergyPlus -v"
   ]
  },
  {
   "cell_type": "markdown",
   "metadata": {},
   "source": [
    "### Printing the EnergyPlus.exe help"
   ]
  },
  {
   "cell_type": "code",
   "execution_count": 4,
   "metadata": {},
   "outputs": [
    {
     "name": "stdout",
     "output_type": "stream",
     "text": [
      "EnergyPlus, Version 8.9.0-40101eaafd\n",
      "Usage: energyplus [options] [input-file]\n",
      "Options:\n",
      "  -a, --annual                 Force annual simulation\n",
      "  -c, --convert                Output IDF->epJSON or epJSON->IDF, dependent on\n",
      "                               input file type\n",
      "  -d, --output-directory ARG   Output directory path (default: current\n",
      "                               directory)\n",
      "  -D, --design-day             Force design-day-only simulation\n",
      "  -h, --help                   Display help information\n",
      "  -i, --idd ARG                Input data dictionary path (default: Energy+.idd\n",
      "                               in executable directory)\n",
      "  -m, --epmacro                Run EPMacro prior to simulation\n",
      "  -p, --output-prefix ARG      Prefix for output file names (default: eplus)\n",
      "  -r, --readvars               Run ReadVarsESO after simulation\n",
      "  -s, --output-suffix ARG      Suffix style for output file names (default: L)\n",
      "                                  L: Legacy (e.g., eplustbl.csv)\n",
      "                                  C: Capital (e.g., eplusTable.csv)\n",
      "                                  D: Dash (e.g., eplus-table.csv)\n",
      "  -v, --version                Display version information\n",
      "  -w, --weather ARG            Weather file path (default: in.epw in current\n",
      "                               directory)\n",
      "  -x, --expandobjects          Run ExpandObjects prior to simulation\n",
      "Example: energyplus -w weather.epw -r input.idf\n"
     ]
    }
   ],
   "source": [
    "!C:\\EnergyPlusV8-9-0\\EnergyPlus -h"
   ]
  },
  {
   "cell_type": "markdown",
   "metadata": {},
   "source": [
    "### Running an EnergyPlus simulation"
   ]
  },
  {
   "cell_type": "code",
   "execution_count": 5,
   "metadata": {
    "scrolled": true
   },
   "outputs": [
    {
     "name": "stdout",
     "output_type": "stream",
     "text": [
      "-x -r -c -d C:\\Users\\cvskf\\git\\stevenkfirth\\energyplus_python_demo\\demo\\1_EnergyPlus\\sim -w C:\\EnergyPlusV8-9-0\\WeatherData\\USA_CA_San.Francisco.Intl.AP.724940_TMY3.epw C:\\Users\\cvskf\\git\\stevenkfirth\\energyplus_python_demo\\demo\\1_EnergyPlus\\sim\\1ZoneUncontrolled.idf\n",
      "ExpandObjects Started.\n",
      "No expanded file generated.\n",
      "ExpandObjects Finished. Time:     0.016\n",
      "EnergyPlus Starting\n",
      "EnergyPlus, Version 8.9.0-40101eaafd, YMD=2018.05.23 14:42\n",
      "Adjusting Air System Sizing\n",
      "Adjusting Standard 62.1 Ventilation Sizing\n",
      "Initializing Simulation\n",
      "Reporting Surfaces\n",
      "Beginning Primary Simulation\n",
      "Initializing New Environment Parameters\n",
      "Warming up {1}\n",
      "Warming up {2}\n",
      "Warming up {3}\n",
      "Warming up {4}\n",
      "Warming up {5}\n",
      "Warming up {6}\n",
      "Warming up {7}\n",
      "Warming up {8}\n",
      "Warming up {9}\n",
      "Warming up {10}\n",
      "Warming up {11}\n",
      "Warming up {12}\n",
      "Warming up {13}\n",
      "Warming up {14}\n",
      "Warming up {15}\n",
      "Warming up {16}\n",
      "Warming up {17}\n",
      "Warming up {18}\n",
      "Warming up {19}\n",
      "Warming up {20}\n",
      "Warming up {21}\n",
      "Warming up {22}\n",
      "Starting Simulation at 12/21 for DENVER CENTENNIAL  GOLDEN   N ANN HTG 99% CONDNS DB\n",
      "Initializing New Environment Parameters\n",
      "Warming up {1}\n",
      "Warming up {2}\n",
      "Warming up {3}\n",
      "Warming up {4}\n",
      "Warming up {5}\n",
      "Warming up {6}\n",
      "Warming up {7}\n",
      "Warming up {8}\n",
      "Warming up {9}\n",
      "Warming up {10}\n",
      "Warming up {11}\n",
      "Warming up {12}\n",
      "Warming up {13}\n",
      "Warming up {14}\n",
      "Warming up {15}\n",
      "Warming up {16}\n",
      "Starting Simulation at 07/21 for DENVER CENTENNIAL  GOLDEN   N ANN CLG 1% CONDNS DB=>MWB\n",
      "Initializing New Environment Parameters\n",
      "Warming up {1}\n",
      "Warming up {2}\n",
      "Warming up {3}\n",
      "Warming up {4}\n",
      "Warming up {5}\n",
      "Warming up {6}\n",
      "Warming up {7}\n",
      "Warming up {8}\n",
      "Warming up {9}\n",
      "Warming up {10}\n",
      "Warming up {11}\n",
      "Warming up {12}\n",
      "Warming up {13}\n",
      "Warming up {14}\n",
      "Warming up {15}\n",
      "Warming up {16}\n",
      "Warming up {17}\n",
      "Warming up {18}\n",
      "Starting Simulation at 01/01 for San Francisco Intl Ap CA USA TMY3 WMO#=724940\n",
      "Updating Shadowing Calculations, Start Date=01/21\n",
      "Continuing Simulation at 01/21 for San Francisco Intl Ap CA USA TMY3 WMO#=724940\n",
      "Updating Shadowing Calculations, Start Date=02/10\n",
      "Continuing Simulation at 02/10 for San Francisco Intl Ap CA USA TMY3 WMO#=724940\n",
      "Updating Shadowing Calculations, Start Date=03/02\n",
      "Continuing Simulation at 03/02 for San Francisco Intl Ap CA USA TMY3 WMO#=724940\n",
      "Updating Shadowing Calculations, Start Date=03/22\n",
      "Continuing Simulation at 03/22 for San Francisco Intl Ap CA USA TMY3 WMO#=724940\n",
      "Updating Shadowing Calculations, Start Date=04/11\n",
      "Continuing Simulation at 04/11 for San Francisco Intl Ap CA USA TMY3 WMO#=724940\n",
      "Updating Shadowing Calculations, Start Date=05/01\n",
      "Continuing Simulation at 05/01 for San Francisco Intl Ap CA USA TMY3 WMO#=724940\n",
      "Updating Shadowing Calculations, Start Date=05/21\n",
      "Continuing Simulation at 05/21 for San Francisco Intl Ap CA USA TMY3 WMO#=724940\n",
      "Updating Shadowing Calculations, Start Date=06/10\n",
      "Continuing Simulation at 06/10 for San Francisco Intl Ap CA USA TMY3 WMO#=724940\n",
      "Updating Shadowing Calculations, Start Date=06/30\n",
      "Continuing Simulation at 06/30 for San Francisco Intl Ap CA USA TMY3 WMO#=724940\n",
      "Updating Shadowing Calculations, Start Date=07/20\n",
      "Continuing Simulation at 07/20 for San Francisco Intl Ap CA USA TMY3 WMO#=724940\n",
      "Updating Shadowing Calculations, Start Date=08/09\n",
      "Continuing Simulation at 08/09 for San Francisco Intl Ap CA USA TMY3 WMO#=724940\n",
      "Updating Shadowing Calculations, Start Date=08/29\n",
      "Continuing Simulation at 08/29 for San Francisco Intl Ap CA USA TMY3 WMO#=724940\n",
      "Updating Shadowing Calculations, Start Date=09/18\n",
      "Continuing Simulation at 09/18 for San Francisco Intl Ap CA USA TMY3 WMO#=724940\n",
      "Updating Shadowing Calculations, Start Date=10/08\n",
      "Continuing Simulation at 10/08 for San Francisco Intl Ap CA USA TMY3 WMO#=724940\n",
      "Updating Shadowing Calculations, Start Date=10/28\n",
      "Continuing Simulation at 10/28 for San Francisco Intl Ap CA USA TMY3 WMO#=724940\n",
      "Updating Shadowing Calculations, Start Date=11/17\n",
      "Continuing Simulation at 11/17 for San Francisco Intl Ap CA USA TMY3 WMO#=724940\n",
      "Updating Shadowing Calculations, Start Date=12/07\n",
      "Continuing Simulation at 12/07 for San Francisco Intl Ap CA USA TMY3 WMO#=724940\n",
      "Updating Shadowing Calculations, Start Date=12/27\n",
      "Continuing Simulation at 12/27 for San Francisco Intl Ap CA USA TMY3 WMO#=724940\n",
      "Writing tabular output file results using comma format.\n",
      "Writing tabular output file results using tab format.\n",
      "Writing tabular output file results using text format.\n",
      "Writing tabular output file results using HTML format.\n",
      "Writing tabular output file results using XML format.\n",
      "Writing final SQL reports\n",
      " ReadVarsESO program starting.\n",
      " ReadVars Run Time=00hr 00min  0.89sec\n",
      " ReadVarsESO program completed successfully.\n",
      " ReadVarsESO program starting.\n",
      " ReadVars Run Time=00hr 00min  0.45sec\n",
      " ReadVarsESO program completed successfully.\n",
      "EnergyPlus Run Time=00hr 00min  4.12sec\n"
     ]
    },
    {
     "name": "stderr",
     "output_type": "stream",
     "text": [
      "EnergyPlus Completed Successfully.\n"
     ]
    }
   ],
   "source": [
    "import os\n",
    "output_directory=os.path.abspath('sim')\n",
    "idf_arg=os.path.join(output_directory,\n",
    "                     '1ZoneUncontrolled.idf'\n",
    "                    )\n",
    "weather_arg=r'-w C:\\EnergyPlusV8-9-0\\WeatherData\\USA_CA_San.Francisco.Intl.AP.724940_TMY3.epw'\n",
    "output_directory_arg='-d ' + output_directory\n",
    "st=' '.join(['-x',\n",
    "             '-r',\n",
    "             '-c',\n",
    "             output_directory_arg,\n",
    "             weather_arg,\n",
    "             idf_arg])\n",
    "print(st)\n",
    "!C:\\EnergyPlusV8-9-0\\EnergyPlus $st"
   ]
  },
  {
   "cell_type": "markdown",
   "metadata": {},
   "source": [
    "### Or as a function..."
   ]
  },
  {
   "cell_type": "code",
   "execution_count": 6,
   "metadata": {},
   "outputs": [],
   "source": [
    "import os\n",
    "def run_energyplus(epexe_fp,\n",
    "                   out_fp,\n",
    "                   idf_fp,\n",
    "                   epw_fp,\n",
    "                   output_prefix='eplus'\n",
    "                   ):\n",
    "    \"\"\"Runs the EnergyPlus software\n",
    "\n",
    "    Arguments:\n",
    "        - epexe_fp (str): the absolute filepath of the 'energyplus.exe' file - excluding the extension\n",
    "        - out_fp (str): the absolute filepath of the output folder\n",
    "        - idf_fp (str): the absolute filepath of the idf file - including the extension\n",
    "        - epw_fp (str): the absolute filepath of the epw file - including the extension\n",
    "        - output_prefix (str) : the prefix to  the output file names\n",
    "        \n",
    "    Note: ReadVarsESO will only work if the idf file is placed in the output folder\n",
    "\n",
    "    \"\"\"\n",
    "    #CREATES THE 'OUT' FOLDER IF IT DOESN'T EXIST\n",
    "    if not os.path.isdir(out_fp):\n",
    "        os.mkdir(out_fp)\n",
    "        \n",
    "    #DELETES THE 'eplusout.expidf' FILE IN 'out_fp' IF IT'S PRESENT\n",
    "    #    this is needed to force the recreation of this file...\n",
    "    expidf_fp=os.path.join(out_fp,output_prefix+'out.expidf')\n",
    "    if os.path.isfile(expidf_fp):\n",
    "        os.remove(expidf_fp) \n",
    "    \n",
    "    #RUN ENERGYPLUS VIA COMMAND PROMPT\n",
    "    !$epexe_fp -x -r -c -d $out_fp -p $output_prefix -w $epw_fp $idf_fp\n",
    "    return"
   ]
  },
  {
   "cell_type": "code",
   "execution_count": 7,
   "metadata": {},
   "outputs": [
    {
     "data": {
      "text/plain": [
       "<function __main__.run_energyplus(epexe_fp, out_fp, idf_fp, epw_fp, output_prefix='eplus')>"
      ]
     },
     "execution_count": 7,
     "metadata": {},
     "output_type": "execute_result"
    }
   ],
   "source": [
    "run_energyplus"
   ]
  },
  {
   "cell_type": "markdown",
   "metadata": {},
   "source": [
    "### Running an EnergyPlus simulation using the 'run_energyplus' function"
   ]
  },
  {
   "cell_type": "code",
   "execution_count": 8,
   "metadata": {},
   "outputs": [
    {
     "name": "stdout",
     "output_type": "stream",
     "text": [
      "ExpandObjects Started.\n",
      "No expanded file generated.\n",
      "ExpandObjects Finished. Time:     0.016\n",
      "EnergyPlus Starting\n",
      "EnergyPlus, Version 8.9.0-40101eaafd, YMD=2018.05.23 15:03\n",
      "Adjusting Air System Sizing\n",
      "Adjusting Standard 62.1 Ventilation Sizing\n",
      "Initializing Simulation\n",
      "Reporting Surfaces\n",
      "Beginning Primary Simulation\n",
      "Initializing New Environment Parameters\n",
      "Warming up {1}\n",
      "Warming up {2}\n",
      "Warming up {3}\n",
      "Warming up {4}\n",
      "Warming up {5}\n",
      "Warming up {6}\n",
      "Warming up {7}\n",
      "Warming up {8}\n",
      "Warming up {9}\n",
      "Warming up {10}\n",
      "Warming up {11}\n",
      "Warming up {12}\n",
      "Warming up {13}\n",
      "Warming up {14}\n",
      "Warming up {15}\n",
      "Warming up {16}\n",
      "Warming up {17}\n",
      "Warming up {18}\n",
      "Warming up {19}\n",
      "Warming up {20}\n",
      "Warming up {21}\n",
      "Warming up {22}\n",
      "Starting Simulation at 12/21 for DENVER CENTENNIAL  GOLDEN   N ANN HTG 99% CONDNS DB\n",
      "Initializing New Environment Parameters\n",
      "Warming up {1}\n",
      "Warming up {2}\n",
      "Warming up {3}\n",
      "Warming up {4}\n",
      "Warming up {5}\n",
      "Warming up {6}\n",
      "Warming up {7}\n",
      "Warming up {8}\n",
      "Warming up {9}\n",
      "Warming up {10}\n",
      "Warming up {11}\n",
      "Warming up {12}\n",
      "Warming up {13}\n",
      "Warming up {14}\n",
      "Warming up {15}\n",
      "Warming up {16}\n",
      "Starting Simulation at 07/21 for DENVER CENTENNIAL  GOLDEN   N ANN CLG 1% CONDNS DB=>MWB\n",
      "Initializing New Environment Parameters\n",
      "Warming up {1}\n",
      "Warming up {2}\n",
      "Warming up {3}\n",
      "Warming up {4}\n",
      "Warming up {5}\n",
      "Warming up {6}\n",
      "Warming up {7}\n",
      "Warming up {8}\n",
      "Warming up {9}\n",
      "Warming up {10}\n",
      "Warming up {11}\n",
      "Warming up {12}\n",
      "Warming up {13}\n",
      "Warming up {14}\n",
      "Warming up {15}\n",
      "Warming up {16}\n",
      "Warming up {17}\n",
      "Warming up {18}\n",
      "Starting Simulation at 01/01 for San Francisco Intl Ap CA USA TMY3 WMO#=724940\n",
      "Updating Shadowing Calculations, Start Date=01/21\n",
      "Continuing Simulation at 01/21 for San Francisco Intl Ap CA USA TMY3 WMO#=724940\n",
      "Updating Shadowing Calculations, Start Date=02/10\n",
      "Continuing Simulation at 02/10 for San Francisco Intl Ap CA USA TMY3 WMO#=724940\n",
      "Updating Shadowing Calculations, Start Date=03/02\n",
      "Continuing Simulation at 03/02 for San Francisco Intl Ap CA USA TMY3 WMO#=724940\n",
      "Updating Shadowing Calculations, Start Date=03/22\n",
      "Continuing Simulation at 03/22 for San Francisco Intl Ap CA USA TMY3 WMO#=724940\n",
      "Updating Shadowing Calculations, Start Date=04/11\n",
      "Continuing Simulation at 04/11 for San Francisco Intl Ap CA USA TMY3 WMO#=724940\n",
      "Updating Shadowing Calculations, Start Date=05/01\n",
      "Continuing Simulation at 05/01 for San Francisco Intl Ap CA USA TMY3 WMO#=724940\n",
      "Updating Shadowing Calculations, Start Date=05/21\n",
      "Continuing Simulation at 05/21 for San Francisco Intl Ap CA USA TMY3 WMO#=724940\n",
      "Updating Shadowing Calculations, Start Date=06/10\n",
      "Continuing Simulation at 06/10 for San Francisco Intl Ap CA USA TMY3 WMO#=724940\n",
      "Updating Shadowing Calculations, Start Date=06/30\n",
      "Continuing Simulation at 06/30 for San Francisco Intl Ap CA USA TMY3 WMO#=724940\n",
      "Updating Shadowing Calculations, Start Date=07/20\n",
      "Continuing Simulation at 07/20 for San Francisco Intl Ap CA USA TMY3 WMO#=724940\n",
      "Updating Shadowing Calculations, Start Date=08/09\n",
      "Continuing Simulation at 08/09 for San Francisco Intl Ap CA USA TMY3 WMO#=724940\n",
      "Updating Shadowing Calculations, Start Date=08/29\n",
      "Continuing Simulation at 08/29 for San Francisco Intl Ap CA USA TMY3 WMO#=724940\n",
      "Updating Shadowing Calculations, Start Date=09/18\n",
      "Continuing Simulation at 09/18 for San Francisco Intl Ap CA USA TMY3 WMO#=724940\n",
      "Updating Shadowing Calculations, Start Date=10/08\n",
      "Continuing Simulation at 10/08 for San Francisco Intl Ap CA USA TMY3 WMO#=724940\n",
      "Updating Shadowing Calculations, Start Date=10/28\n",
      "Continuing Simulation at 10/28 for San Francisco Intl Ap CA USA TMY3 WMO#=724940\n",
      "Updating Shadowing Calculations, Start Date=11/17\n",
      "Continuing Simulation at 11/17 for San Francisco Intl Ap CA USA TMY3 WMO#=724940\n",
      "Updating Shadowing Calculations, Start Date=12/07\n",
      "Continuing Simulation at 12/07 for San Francisco Intl Ap CA USA TMY3 WMO#=724940\n",
      "Updating Shadowing Calculations, Start Date=12/27\n",
      "Continuing Simulation at 12/27 for San Francisco Intl Ap CA USA TMY3 WMO#=724940\n",
      "Writing tabular output file results using comma format.\n",
      "Writing tabular output file results using tab format.\n",
      "Writing tabular output file results using text format.\n",
      "Writing tabular output file results using HTML format.\n",
      "Writing tabular output file results using XML format.\n",
      "Writing final SQL reports\n",
      " ReadVarsESO program starting.\n",
      " ReadVars Run Time=00hr 00min  0.89sec\n",
      " ReadVarsESO program completed successfully.\n",
      " ReadVarsESO program starting.\n",
      " ReadVars Run Time=00hr 00min  0.47sec\n",
      " ReadVarsESO program completed successfully.\n",
      "EnergyPlus Run Time=00hr 00min  4.01sec\n"
     ]
    },
    {
     "name": "stderr",
     "output_type": "stream",
     "text": [
      "EnergyPlus Completed Successfully.\n"
     ]
    }
   ],
   "source": [
    "epexe_fp=r'C:\\EnergyPlusV8-9-0\\EnergyPlus'\n",
    "out_fp=os.path.abspath('sim')\n",
    "idf_fp=os.path.join(out_fp,\n",
    "                    '1ZoneUncontrolled.idf'\n",
    "                   )\n",
    "epw_fp=r'C:\\EnergyPlusV8-9-0\\WeatherData\\USA_CA_San.Francisco.Intl.AP.724940_TMY3.epw'\n",
    "run_energyplus(epexe_fp,\n",
    "               out_fp,\n",
    "               idf_fp,\n",
    "               epw_fp\n",
    "              )"
   ]
  },
  {
   "cell_type": "code",
   "execution_count": null,
   "metadata": {},
   "outputs": [],
   "source": []
  }
 ],
 "metadata": {
  "kernelspec": {
   "display_name": "Python 3",
   "language": "python",
   "name": "python3"
  },
  "language_info": {
   "codemirror_mode": {
    "name": "ipython",
    "version": 3
   },
   "file_extension": ".py",
   "mimetype": "text/x-python",
   "name": "python",
   "nbconvert_exporter": "python",
   "pygments_lexer": "ipython3",
   "version": "3.6.5"
  }
 },
 "nbformat": 4,
 "nbformat_minor": 2
}
